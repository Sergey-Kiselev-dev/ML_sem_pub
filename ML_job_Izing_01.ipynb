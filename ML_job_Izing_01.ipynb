{
  "nbformat": 4,
  "nbformat_minor": 0,
  "metadata": {
    "colab": {
      "provenance": [],
      "authorship_tag": "ABX9TyMToXE1jbp0Pk8kPcLzFwvE",
      "include_colab_link": true
    },
    "kernelspec": {
      "name": "python3",
      "display_name": "Python 3"
    },
    "language_info": {
      "name": "python"
    }
  },
  "cells": [
    {
      "cell_type": "markdown",
      "metadata": {
        "id": "view-in-github",
        "colab_type": "text"
      },
      "source": [
        "<a href=\"https://colab.research.google.com/github/Sergey-Kiselev-dev/ML_sem_pub/blob/main/ML_job_Izing_01.ipynb\" target=\"_parent\"><img src=\"https://colab.research.google.com/assets/colab-badge.svg\" alt=\"Open In Colab\"/></a>"
      ]
    },
    {
      "cell_type": "code",
      "execution_count": 6,
      "metadata": {
        "id": "sVZW_5J9KdRY"
      },
      "outputs": [],
      "source": [
        "import numpy as np\n",
        "from scipy import sparse\n",
        "from scipy.sparse import linalg as sl\n",
        "\n",
        "def sigmaz_k(k: int, n: int) -> (sparse.csr_matrix):\n",
        "    left_part = sparse.eye(2 ** k)\n",
        "    right_part = sparse.eye(2 ** (n - 1 - k))\n",
        "\n",
        "    return sparse.kron(\n",
        "        sparse.kron(\n",
        "            left_part,\n",
        "            sparse.csr_matrix(np.array([[1, 0,], [0, -1,],]))\n",
        "        ),\n",
        "        right_part\n",
        "    )"
      ]
    },
    {
      "cell_type": "code",
      "source": [
        "def ising(j: float, h: float, n: int) -> (sparse.csr_matrix):\n",
        "    res = sparse.csr_matrix((2 ** n, 2 ** n), dtype=np.complex64)\n",
        "\n",
        "    for i in range(n - 1):\n",
        "        res += j * sigmaz_k(i, n) * sigmaz_k(i + 1, n)\n",
        "        res -= h * sigmaz_k(i, n)\n",
        "\n",
        "    res -= h * sigmaz_k(n - 1, n)\n",
        "\n",
        "    return res"
      ],
      "metadata": {
        "id": "sgHwzHxdKpIZ"
      },
      "execution_count": 7,
      "outputs": []
    },
    {
      "cell_type": "code",
      "source": [
        "op = ising(1, 0, 10)\n",
        "solution = sl.eigs(op, which=\"SR\", k=1, return_eigenvectors=True)\n",
        "print(f\"Energy: {solution[0][0]}\")"
      ],
      "metadata": {
        "colab": {
          "base_uri": "https://localhost:8080/"
        },
        "id": "e8iFtjsgKuxb",
        "outputId": "0640ea18-d78c-4ee6-b02c-b4ea35ea9c20"
      },
      "execution_count": 8,
      "outputs": [
        {
          "output_type": "stream",
          "name": "stdout",
          "text": [
            "Energy: (-9.000000000000014-6.869882289751898e-17j)\n"
          ]
        }
      ]
    },
    {
      "cell_type": "code",
      "source": [
        "def probs2bit_str(probs: np.array) -> (str):\n",
        "    size = int(np.log2(probs.shape[0]))\n",
        "    bit_s_num = np.where(probs == probs.max())[0][0]\n",
        "\n",
        "    s = f\"{bit_s_num:b}\"\n",
        "    s = \"0\" * (size - len(s)) + s\n",
        "\n",
        "    return s\n",
        "\n",
        "probs = solution[1] * solution[1].conj()\n",
        "print(probs2bit_str(probs))"
      ],
      "metadata": {
        "colab": {
          "base_uri": "https://localhost:8080/"
        },
        "id": "y9wPcNcyN8R8",
        "outputId": "ce7a3edb-3007-47c7-9abf-2280d890690e"
      },
      "execution_count": 9,
      "outputs": [
        {
          "output_type": "stream",
          "name": "stdout",
          "text": [
            "0101010101\n"
          ]
        }
      ]
    },
    {
      "cell_type": "code",
      "source": [
        "def external_field(j: float, h: float, n: int) -> (None):\n",
        "    op = ising(j, h, n)\n",
        "    solution = sl.eigs(op, which=\"SR\", k=1, return_eigenvectors=True)\n",
        "    print(f\"Energy: {solution[0][0]}\")\n",
        "\n",
        "    probs = solution[1] * solution[1].conj()\n",
        "    print(probs2bit_str(probs))\n",
        "\n",
        "external_field(1, 2, 10)"
      ],
      "metadata": {
        "colab": {
          "base_uri": "https://localhost:8080/"
        },
        "id": "pggnKqANOZoa",
        "outputId": "b31caac3-f649-48d2-8910-a579d2824698"
      },
      "execution_count": 10,
      "outputs": [
        {
          "output_type": "stream",
          "name": "stdout",
          "text": [
            "Energy: (-11.000000000000012+4.007501665246013e-17j)\n",
            "0000101000\n"
          ]
        }
      ]
    },
    {
      "cell_type": "code",
      "source": [
        "external_field(1, 100, 10)"
      ],
      "metadata": {
        "colab": {
          "base_uri": "https://localhost:8080/"
        },
        "id": "P9uzHTfQOpCk",
        "outputId": "80e5e731-8a8d-4b92-f6d2-1572e23583e8"
      },
      "execution_count": 11,
      "outputs": [
        {
          "output_type": "stream",
          "name": "stdout",
          "text": [
            "Energy: (-991.0000000000043-8.21702088678418e-15j)\n",
            "0000000000\n"
          ]
        }
      ]
    }
  ]
}