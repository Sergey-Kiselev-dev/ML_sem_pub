{
  "nbformat": 4,
  "nbformat_minor": 0,
  "metadata": {
    "colab": {
      "provenance": [],
      "authorship_tag": "ABX9TyMJu8dc6zfUJAfff061Rg3C",
      "include_colab_link": true
    },
    "kernelspec": {
      "name": "python3",
      "display_name": "Python 3"
    },
    "language_info": {
      "name": "python"
    }
  },
  "cells": [
    {
      "cell_type": "markdown",
      "metadata": {
        "id": "view-in-github",
        "colab_type": "text"
      },
      "source": [
        "<a href=\"https://colab.research.google.com/github/Sergey-Kiselev-dev/ML_sem_pub/blob/main/ML_job_Izing_01.ipynb\" target=\"_parent\"><img src=\"https://colab.research.google.com/assets/colab-badge.svg\" alt=\"Open In Colab\"/></a>"
      ]
    },
    {
      "cell_type": "code",
      "execution_count": 1,
      "metadata": {
        "id": "sVZW_5J9KdRY"
      },
      "outputs": [],
      "source": [
        "import numpy as np\n",
        "from scipy import sparse\n",
        "from scipy.sparse import linalg as sl\n",
        "\n",
        "def sigmaz_k(k: int, n: int) -> (sparse.csr_matrix):\n",
        "    left_part = sparse.eye(2 ** k)\n",
        "    right_part = sparse.eye(2 ** (n - 1 - k))\n",
        "\n",
        "    return sparse.kron(\n",
        "        sparse.kron(\n",
        "            left_part,\n",
        "            sparse.csr_matrix(np.array([[1, 0,], [0, -1,],]))\n",
        "        ),\n",
        "        right_part\n",
        "    )"
      ]
    },
    {
      "cell_type": "code",
      "source": [
        "def ising(j: float, h: float, n: int) -> (sparse.csr_matrix):\n",
        "    res = sparse.csr_matrix((2 ** n, 2 ** n), dtype=np.complex64)\n",
        "\n",
        "    for i in range(n - 1):\n",
        "        res += j * sigmaz_k(i, n) * sigmaz_k(i + 1, n)\n",
        "        res -= h * sigmaz_k(i, n)\n",
        "\n",
        "    res -= h * sigmaz_k(n - 1, n)\n",
        "\n",
        "    return res"
      ],
      "metadata": {
        "id": "sgHwzHxdKpIZ"
      },
      "execution_count": 2,
      "outputs": []
    },
    {
      "cell_type": "code",
      "source": [
        "op = ising(1, 0, 10)\n",
        "solution = sl.eigs(op, which=\"SR\", k=1, return_eigenvectors=True)\n",
        "print(f\"Energy: {solution[0][0]}\")"
      ],
      "metadata": {
        "colab": {
          "base_uri": "https://localhost:8080/"
        },
        "id": "e8iFtjsgKuxb",
        "outputId": "d4e06881-5279-4d8d-b39d-3dbc1ed4ecc7"
      },
      "execution_count": 3,
      "outputs": [
        {
          "output_type": "stream",
          "name": "stdout",
          "text": [
            "Energy: (-9.000000000000018-2.208468631860285e-16j)\n"
          ]
        }
      ]
    }
  ]
}