{
  "nbformat": 4,
  "nbformat_minor": 0,
  "metadata": {
    "colab": {
      "provenance": [],
      "authorship_tag": "ABX9TyMgZ6prMCibonDw5G3pvgah",
      "include_colab_link": true
    },
    "kernelspec": {
      "name": "python3",
      "display_name": "Python 3"
    },
    "language_info": {
      "name": "python"
    }
  },
  "cells": [
    {
      "cell_type": "markdown",
      "metadata": {
        "id": "view-in-github",
        "colab_type": "text"
      },
      "source": [
        "<a href=\"https://colab.research.google.com/github/Sergey-Kiselev-dev/ML_sem_pub/blob/main/ML_job_Izing_02a.ipynb\" target=\"_parent\"><img src=\"https://colab.research.google.com/assets/colab-badge.svg\" alt=\"Open In Colab\"/></a>"
      ]
    },
    {
      "cell_type": "markdown",
      "source": [
        "Snapshots of the configurations\n",
        "===========\n",
        "We start with a random initial condition and then plot the instantaneous configurations, as the system coarsens to its equilibrium state."
      ],
      "metadata": {
        "id": "eBEfJNmvGhdf"
      }
    },
    {
      "cell_type": "code",
      "source": [
        "%matplotlib inline\n",
        "# Simulating the Ising model\n",
        "from __future__ import division\n",
        "import numpy as np\n",
        "from numpy.random import rand\n",
        "import matplotlib.pyplot as plt"
      ],
      "metadata": {
        "id": "OGupa5sdGwet"
      },
      "execution_count": 4,
      "outputs": []
    },
    {
      "cell_type": "code",
      "source": [
        "class Ising():\n",
        "    ''' Simulating the Ising model '''\n",
        "    ## monte carlo moves\n",
        "    def mcmove(self, config, N, beta):\n",
        "        ''' This is to execute the monte carlo moves using\n",
        "        Metropolis algorithm such that detailed\n",
        "        balance condition is satisified'''\n",
        "        for i in range(N):\n",
        "            for j in range(N):\n",
        "                    a = np.random.randint(0, N)\n",
        "                    b = np.random.randint(0, N)\n",
        "                    s =  config[a, b]\n",
        "                    nb = config[(a+1)%N,b] + config[a,(b+1)%N] + config[(a-1)%N,b] + config[a,(b-1)%N]\n",
        "                    cost = 2*s*nb\n",
        "                    if cost < 0:\n",
        "                        s *= -1\n",
        "                    elif rand() < np.exp(-cost*beta):\n",
        "                        s *= -1\n",
        "                    config[a, b] = s\n",
        "        return config\n",
        "\n",
        "    def simulate(self):\n",
        "        ''' This module simulates the Ising model'''\n",
        "        N, temp     = 64, .4        # Initialse the lattice\n",
        "        config = 2*np.random.randint(2, size=(N,N))-1\n",
        "        f = plt.figure(figsize=(15, 15), dpi=80);\n",
        "        self.configPlot(f, config, 0, N, 1);\n",
        "\n",
        "        msrmnt = 1001\n",
        "        for i in range(msrmnt):\n",
        "            self.mcmove(config, N, 1.0/temp)\n",
        "            if i == 1:       self.configPlot(f, config, i, N, 2);\n",
        "            if i == 4:       self.configPlot(f, config, i, N, 3);\n",
        "            if i == 32:      self.configPlot(f, config, i, N, 4);\n",
        "            if i == 100:     self.configPlot(f, config, i, N, 5);\n",
        "            if i == 1000:    self.configPlot(f, config, i, N, 6);\n",
        "\n",
        "\n",
        "    def configPlot(self, f, config, i, N, n_):\n",
        "        ''' This modules plts the configuration once passed to it along with time etc '''\n",
        "        X, Y = np.meshgrid(range(N), range(N))\n",
        "        sp =  f.add_subplot(3, 3, n_ )\n",
        "        plt.setp(sp.get_yticklabels(), visible=False)\n",
        "        plt.setp(sp.get_xticklabels(), visible=False)\n",
        "        plt.pcolormesh(X, Y, config, cmap=plt.cm.RdBu);\n",
        "        plt.title('Time=%d'%i); plt.axis('tight')\n",
        "    plt.show()"
      ],
      "metadata": {
        "id": "38JQH76JGqP-"
      },
      "execution_count": 5,
      "outputs": []
    },
    {
      "cell_type": "code",
      "source": [
        "rm = Ising()\n",
        "rm.simulate()"
      ],
      "metadata": {
        "id": "VkH095sRG0aW",
        "outputId": "4605d6d8-6fac-4862-97a6-62b9d4df92f6",
        "colab": {
          "base_uri": "https://localhost:8080/",
          "height": 651
        }
      },
      "execution_count": 6,
      "outputs": [
        {
          "output_type": "display_data",
          "data": {
            "text/plain": [
              "<Figure size 1200x1200 with 6 Axes>"
            ],
            "image/png": "[encoded data removed]"
          },
          "metadata": {}
        }
      ]
    }
  ]
}