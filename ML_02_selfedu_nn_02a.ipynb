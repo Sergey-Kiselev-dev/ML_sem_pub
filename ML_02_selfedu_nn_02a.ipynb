{
  "nbformat": 4,
  "nbformat_minor": 0,
  "metadata": {
    "colab": {
      "provenance": [],
      "authorship_tag": "ABX9TyPn3+ojbpPdXKq06HUVMxEB",
      "include_colab_link": true
    },
    "kernelspec": {
      "name": "python3",
      "display_name": "Python 3"
    },
    "language_info": {
      "name": "python"
    }
  },
  "cells": [
    {
      "cell_type": "markdown",
      "metadata": {
        "id": "view-in-github",
        "colab_type": "text"
      },
      "source": [
        "<a href=\"https://colab.research.google.com/github/Sergey-Kiselev-dev/ML_sem_pub/blob/main/ML_02_selfedu_nn_02a.ipynb\" target=\"_parent\"><img src=\"https://colab.research.google.com/assets/colab-badge.svg\" alt=\"Open In Colab\"/></a>"
      ]
    },
    {
      "cell_type": "code",
      "source": [
        "import numpy as np"
      ],
      "metadata": {
        "id": "5GTmSSszY3vU"
      },
      "execution_count": 2,
      "outputs": []
    },
    {
      "cell_type": "code",
      "source": [
        "def act(x):\n",
        "    return 0 if x < 0.5 else 1\n",
        "\n",
        "def go(house, rock, attr):\n",
        "    x = np.array([house, rock, attr])\n",
        "    w11 = [0.3, 0.3, 0]\n",
        "    w12 = [0.4, -0.5, 1]\n",
        "    weight1 = np.array([w11, w12])  # матрица 2x3\n",
        "    weight2 = np.array([-1, 1])     # вектор 1х2\n",
        "\n",
        "    sum_hidden = np.dot(weight1, x)       # вычисляем сумму на входах нейронов скрытого слоя\n",
        "    print(\"Значения сумм на нейронах скрытого слоя: \"+str(sum_hidden))\n",
        "\n",
        "    out_hidden = np.array([act(x) for x in sum_hidden])\n",
        "    print(\"Значения на выходах нейронов скрытого слоя: \"+str(out_hidden))\n",
        "\n",
        "    sum_end = np.dot(weight2, out_hidden)\n",
        "    y = act(sum_end)\n",
        "    print(\"Выходное значение НС: \"+str(y))\n",
        "\n",
        "    return y"
      ],
      "metadata": {
        "id": "19L5WfI8U0UH"
      },
      "execution_count": 3,
      "outputs": []
    },
    {
      "cell_type": "code",
      "source": [
        "house = 1\n",
        "rock = 0\n",
        "attr = 1\n",
        "\n",
        "res = go(house, rock, attr)\n",
        "if res == 1:\n",
        "    print(\"Ты мне нравишься\")\n",
        "else:\n",
        "    print(\"Созвонимся\")"
      ],
      "metadata": {
        "colab": {
          "base_uri": "https://localhost:8080/"
        },
        "id": "8hgygtIxU3lf",
        "outputId": "3ca0cbce-082e-4306-e0d8-dfb8844e813a"
      },
      "execution_count": 4,
      "outputs": [
        {
          "output_type": "stream",
          "name": "stdout",
          "text": [
            "Значения сумм на нейронах скрытого слоя: [0.3 1.4]\n",
            "Значения на выходах нейронов скрытого слоя: [0 1]\n",
            "Выходное значение НС: 1\n",
            "Ты мне нравишься\n"
          ]
        }
      ]
    }
  ]
}