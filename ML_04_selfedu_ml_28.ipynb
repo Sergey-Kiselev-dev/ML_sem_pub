{
  "nbformat": 4,
  "nbformat_minor": 0,
  "metadata": {
    "colab": {
      "provenance": [],
      "authorship_tag": "ABX9TyOqEZFw7ihyxX29JhUbs/XS",
      "include_colab_link": true
    },
    "kernelspec": {
      "name": "python3",
      "display_name": "Python 3"
    },
    "language_info": {
      "name": "python"
    }
  },
  "cells": [
    {
      "cell_type": "markdown",
      "metadata": {
        "id": "view-in-github",
        "colab_type": "text"
      },
      "source": [
        "<a href=\"https://colab.research.google.com/github/Sergey-Kiselev-dev/ML_sem_pub/blob/main/ML_04_selfedu_ml_28.ipynb\" target=\"_parent\"><img src=\"https://colab.research.google.com/assets/colab-badge.svg\" alt=\"Open In Colab\"/></a>"
      ]
    },
    {
      "cell_type": "code",
      "source": [
        "import numpy as np\n",
        "import matplotlib.pyplot as plt"
      ],
      "metadata": {
        "id": "Qc66ucUIZuUO"
      },
      "execution_count": null,
      "outputs": []
    },
    {
      "cell_type": "code",
      "source": [
        "SIZE = 1000\n",
        "np.random.seed(123)\n",
        "x = np.random.normal(size=SIZE)\n",
        "y = np.random.normal(size=SIZE)\n",
        "z = (x + y) / 2\n",
        "x0 = np.sin(x + y)\n",
        "\n",
        "F = np.vstack([x, y, z, x0])\n",
        "FF = 1 / SIZE * F @ F.T\n",
        "L, W = np.linalg.eig(FF)\n",
        "WW = sorted(zip(L, W.T), key=lambda lx: lx[0], reverse=True)\n",
        "WW = np.array([w[1] for w in WW])\n",
        "print(WW)\n",
        "print(sorted(L, reverse=True))"
      ],
      "metadata": {
        "id": "UNGcjfrbZsFN",
        "outputId": "c9e596d5-a012-4b2b-9084-bbc13ca86562",
        "colab": {
          "base_uri": "https://localhost:8080/"
        }
      },
      "execution_count": null,
      "outputs": [
        {
          "output_type": "stream",
          "name": "stdout",
          "text": [
            "[[ 5.73059994e-01  4.50589233e-01  5.11824614e-01  4.54540593e-01]\n",
            " [-6.56854592e-01  7.51950945e-01  4.75481766e-02  2.91717871e-02]\n",
            " [-2.71067560e-01 -2.54700712e-01 -2.62884136e-01  8.90248199e-01]\n",
            " [ 4.08248290e-01  4.08248290e-01 -8.16496581e-01 -8.87886643e-16]]\n",
            "[1.7215700677714088, 0.9854103505386121, 0.17172757503180333, 4.9553035346903624e-17]\n"
          ]
        }
      ]
    }
  ]
}