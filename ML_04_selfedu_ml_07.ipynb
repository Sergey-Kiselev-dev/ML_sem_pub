{
  "nbformat": 4,
  "nbformat_minor": 0,
  "metadata": {
    "colab": {
      "provenance": [],
      "authorship_tag": "ABX9TyNLa2lqIoTaP8HnMSGO8B3w",
      "include_colab_link": true
    },
    "kernelspec": {
      "name": "python3",
      "display_name": "Python 3"
    },
    "language_info": {
      "name": "python"
    }
  },
  "cells": [
    {
      "cell_type": "markdown",
      "metadata": {
        "id": "view-in-github",
        "colab_type": "text"
      },
      "source": [
        "<a href=\"https://colab.research.google.com/github/Sergey-Kiselev-dev/ML_sem_pub/blob/main/ML_04_selfedu_ml_07.ipynb\" target=\"_parent\"><img src=\"https://colab.research.google.com/assets/colab-badge.svg\" alt=\"Open In Colab\"/></a>"
      ]
    },
    {
      "cell_type": "code",
      "source": [
        "import numpy as np\n",
        "import matplotlib.pyplot as plt"
      ],
      "metadata": {
        "id": "tnjKUV7wVLuL"
      },
      "execution_count": 15,
      "outputs": []
    },
    {
      "cell_type": "code",
      "source": [
        "x_train = np.array([[10, 50], [20, 30], [25, 30], [20, 60], [15, 70], [40, 40], [30, 45], [20, 45], [40, 30], [7, 35]])\n",
        "x_train = [x + [1] for x in x_train]\n",
        "x_train = np.array(x_train)\n",
        "y_train = np.array([-1, 1, 1, -1, -1, 1, 1, -1, 1, -1])"
      ],
      "metadata": {
        "id": "IZbIzEvUVQv6"
      },
      "execution_count": 16,
      "outputs": []
    },
    {
      "cell_type": "code",
      "source": [
        "pt = np.sum([x * y for x, y in zip(x_train, y_train)], axis=0)\n",
        "xxt = np.sum([np.outer(x, x) for x in x_train], axis=0)\n",
        "w = np.dot(pt, np.linalg.inv(xxt))\n",
        "print(w)"
      ],
      "metadata": {
        "id": "AQ9grUi9aay2",
        "outputId": "0ab0d2c8-7a6d-44fc-da12-d58ed3129a93",
        "colab": {
          "base_uri": "https://localhost:8080/"
        }
      },
      "execution_count": 17,
      "outputs": [
        {
          "output_type": "stream",
          "name": "stdout",
          "text": [
            "[ 0.06025413 -0.0322339 ]\n"
          ]
        }
      ]
    },
    {
      "cell_type": "code",
      "source": [
        "line_x = list(range(max(x_train[:, 0])))    # формирование графика разделяющей линии\n",
        "print(x_train)\n",
        "print(x_train[:, 0])\n",
        "print(line_x)\n",
        "# line_y = [-x * w[0]/w[1] - w[2]/w[1] for x in line_x]\n",
        "# line_y = [-line_x[i] * w[0]/w[1] - w[2]/w[1] for i in range(len(line_x))# ]\n",
        "\n",
        "x_0 = x_train[y_train == 1]                 # формирование точек для 1-го\n",
        "x_1 = x_train[y_train == -1]                # и 2-го классов\n",
        "\n",
        "plt.scatter(x_0[:, 0], x_0[:, 1], color='red')\n",
        "plt.scatter(x_1[:, 0], x_1[:, 1], color='blue')\n",
        "plt.plot(line_x, line_y, color='green')\n",
        "\n",
        "plt.xlim([0, 45])\n",
        "plt.ylim([0, 75])\n",
        "plt.ylabel(\"длина\")\n",
        "plt.xlabel(\"ширина\")\n",
        "plt.grid(True)\n",
        "plt.show()"
      ],
      "metadata": {
        "id": "dxAvGn-7ahjM",
        "outputId": "d21bc0fd-98f2-4f86-b3ca-16eff54bcf6c",
        "colab": {
          "base_uri": "https://localhost:8080/",
          "height": 106
        }
      },
      "execution_count": 22,
      "outputs": [
        {
          "output_type": "error",
          "ename": "SyntaxError",
          "evalue": "'[' was never closed (<ipython-input-22-05e7b712a5a7>, line 6)",
          "traceback": [
            "\u001b[0;36m  File \u001b[0;32m\"<ipython-input-22-05e7b712a5a7>\"\u001b[0;36m, line \u001b[0;32m6\u001b[0m\n\u001b[0;31m    line_y = [-line_x[i] * w[0]/w[1] - w[2]/w[1] for i in range(len(line_x))# ]\u001b[0m\n\u001b[0m             ^\u001b[0m\n\u001b[0;31mSyntaxError\u001b[0m\u001b[0;31m:\u001b[0m '[' was never closed\n"
          ]
        }
      ]
    }
  ]
}