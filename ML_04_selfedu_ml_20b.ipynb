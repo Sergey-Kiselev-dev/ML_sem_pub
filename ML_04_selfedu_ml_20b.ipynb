{
  "nbformat": 4,
  "nbformat_minor": 0,
  "metadata": {
    "colab": {
      "provenance": [],
      "authorship_tag": "ABX9TyN0q1GJp5o/CtdTbLHaDjq2",
      "include_colab_link": true
    },
    "kernelspec": {
      "name": "python3",
      "display_name": "Python 3"
    },
    "language_info": {
      "name": "python"
    }
  },
  "cells": [
    {
      "cell_type": "markdown",
      "metadata": {
        "id": "view-in-github",
        "colab_type": "text"
      },
      "source": [
        "<a href=\"https://colab.research.google.com/github/Sergey-Kiselev-dev/ML_sem_pub/blob/main/ML_04_selfedu_ml_20b.ipynb\" target=\"_parent\"><img src=\"https://colab.research.google.com/assets/colab-badge.svg\" alt=\"Open In Colab\"/></a>"
      ]
    },
    {
      "cell_type": "code",
      "source": [
        "import numpy as np\n",
        "import matplotlib.pyplot as plt\n",
        "from sklearn import svm"
      ],
      "metadata": {
        "id": "tnjKUV7wVLuL"
      },
      "execution_count": 1,
      "outputs": []
    },
    {
      "cell_type": "code",
      "source": [
        "x_train = np.array([[10, 50, 1], [20, 30, 1], [25, 30, 1], [20, 60, 1], [15, 70, 1], [40, 40, 1], [30, 45, 1], [20, 45, 1], [40, 30, 1], [7, 35, 1]])\n",
        "y_train = np.array([-1, 1, 1, -1, -1, 1, 1, -1, 1, -1])"
      ],
      "metadata": {
        "id": "1LP8BvlZDXGC"
      },
      "execution_count": 2,
      "outputs": []
    },
    {
      "cell_type": "code",
      "source": [
        "clf = svm.SVC(kernel='linear')  # SVM с линейным ядром\n",
        "clf.fit(x_train, y_train)  # нахождение вектора w по обучающей выборке\n",
        "y_pr = clf.predict(x_train)  # проверка на обучающей выборке\n",
        "print(np.array(y_train) - np.array(y_pr))  # нули - без ошибок; иначе - ошибка\n",
        "\n",
        "v = clf.support_vectors_  # выделение опорных векторов\n",
        "print(v)\n",
        "\n",
        "# формирование графиков для визуализации полученных результатов\n",
        "x_train = np.array(x_train)\n",
        "y_train = np.array(y_train)\n",
        "\n",
        "x_0 = x_train[y_train == 1]  # формирование точек для 1-го\n",
        "x_1 = x_train[y_train == -1]  # и 2-го классов\n",
        "\n",
        "plt.scatter(x_0[:, 0], x_0[:, 1], color='red')\n",
        "plt.scatter(x_1[:, 0], x_1[:, 1], color='blue')\n",
        "plt.scatter(v[:, 0], v[:, 1], s=70, edgecolor=None, linewidths=0, marker='s')\n",
        "\n",
        "plt.xlim([0, 45])\n",
        "plt.ylim([0, 75])\n",
        "plt.ylabel(\"длина\")\n",
        "plt.xlabel(\"ширина\")\n",
        "plt.grid(True)\n",
        "plt.show()"
      ],
      "metadata": {
        "id": "BNs_qwcOnmcK",
        "outputId": "7940792b-a96d-43f7-dd14-e6fadd315f18",
        "colab": {
          "base_uri": "https://localhost:8080/",
          "height": 522
        }
      },
      "execution_count": 3,
      "outputs": [
        {
          "output_type": "stream",
          "name": "stdout",
          "text": [
            "[0 0 0 0 0 0 0 0 0 0]\n",
            "[[20. 45.  1.]\n",
            " [20. 30.  1.]\n",
            " [30. 45.  1.]]\n"
          ]
        },
        {
          "output_type": "display_data",
          "data": {
            "text/plain": [
              "<Figure size 640x480 with 1 Axes>"
            ],
            "image/png": "[encoded data removed]"
          },
          "metadata": {}
        }
      ]
    }
  ]
}